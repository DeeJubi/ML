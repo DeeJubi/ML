{
 "cells": [
  {
   "cell_type": "code",
   "execution_count": 33,
   "metadata": {},
   "outputs": [
    {
     "name": "stdout",
     "output_type": "stream",
     "text": [
      "Index(['Columns: Area', 'Columns: Bathrooms', 'Columns: Labels'], dtype='object')\n"
     ]
    },
    {
     "data": {
      "text/html": [
       "<div>\n",
       "<style scoped>\n",
       "    .dataframe tbody tr th:only-of-type {\n",
       "        vertical-align: middle;\n",
       "    }\n",
       "\n",
       "    .dataframe tbody tr th {\n",
       "        vertical-align: top;\n",
       "    }\n",
       "\n",
       "    .dataframe thead th {\n",
       "        text-align: right;\n",
       "    }\n",
       "</style>\n",
       "<table border=\"1\" class=\"dataframe\">\n",
       "  <thead>\n",
       "    <tr style=\"text-align: right;\">\n",
       "      <th></th>\n",
       "      <th>Area</th>\n",
       "      <th>Bathrooms</th>\n",
       "      <th>Labels</th>\n",
       "    </tr>\n",
       "  </thead>\n",
       "  <tbody>\n",
       "    <tr>\n",
       "      <th>0</th>\n",
       "      <td>2104</td>\n",
       "      <td>3</td>\n",
       "      <td>Good</td>\n",
       "    </tr>\n",
       "    <tr>\n",
       "      <th>1</th>\n",
       "      <td>1600</td>\n",
       "      <td>3</td>\n",
       "      <td>Good</td>\n",
       "    </tr>\n",
       "    <tr>\n",
       "      <th>2</th>\n",
       "      <td>2400</td>\n",
       "      <td>3</td>\n",
       "      <td>Good</td>\n",
       "    </tr>\n",
       "    <tr>\n",
       "      <th>3</th>\n",
       "      <td>1426</td>\n",
       "      <td>2</td>\n",
       "      <td>Bad</td>\n",
       "    </tr>\n",
       "    <tr>\n",
       "      <th>4</th>\n",
       "      <td>3000</td>\n",
       "      <td>4</td>\n",
       "      <td>Bad</td>\n",
       "    </tr>\n",
       "  </tbody>\n",
       "</table>\n",
       "</div>"
      ],
      "text/plain": [
       "   Area  Bathrooms Labels\n",
       "0  2104          3   Good\n",
       "1  1600          3   Good\n",
       "2  2400          3   Good\n",
       "3  1426          2    Bad\n",
       "4  3000          4    Bad"
      ]
     },
     "execution_count": 33,
     "metadata": {},
     "output_type": "execute_result"
    }
   ],
   "source": [
    "import pandas\n",
    "\n",
    "#first file as testing data\n",
    "file = 'C://Users//djng4/Downloads/data.csv'\n",
    "\n",
    "#pandas to read data into dataframe\n",
    "data = pandas.read_csv(file)\n",
    "print(\"Columns: \" + data.columns)\n",
    "data.describe()\n",
    "data.head()\n",
    "\n",
    "\n"
   ]
  },
  {
   "cell_type": "code",
   "execution_count": 39,
   "metadata": {},
   "outputs": [
    {
     "data": {
      "text/html": [
       "<div>\n",
       "<style scoped>\n",
       "    .dataframe tbody tr th:only-of-type {\n",
       "        vertical-align: middle;\n",
       "    }\n",
       "\n",
       "    .dataframe tbody tr th {\n",
       "        vertical-align: top;\n",
       "    }\n",
       "\n",
       "    .dataframe thead th {\n",
       "        text-align: right;\n",
       "    }\n",
       "</style>\n",
       "<table border=\"1\" class=\"dataframe\">\n",
       "  <thead>\n",
       "    <tr style=\"text-align: right;\">\n",
       "      <th></th>\n",
       "      <th>Area</th>\n",
       "      <th>Bathrooms</th>\n",
       "      <th>Labels</th>\n",
       "    </tr>\n",
       "  </thead>\n",
       "  <tbody>\n",
       "    <tr>\n",
       "      <th>0</th>\n",
       "      <td>2104</td>\n",
       "      <td>3</td>\n",
       "      <td>1</td>\n",
       "    </tr>\n",
       "    <tr>\n",
       "      <th>1</th>\n",
       "      <td>1600</td>\n",
       "      <td>3</td>\n",
       "      <td>1</td>\n",
       "    </tr>\n",
       "    <tr>\n",
       "      <th>2</th>\n",
       "      <td>2400</td>\n",
       "      <td>3</td>\n",
       "      <td>1</td>\n",
       "    </tr>\n",
       "    <tr>\n",
       "      <th>3</th>\n",
       "      <td>1426</td>\n",
       "      <td>2</td>\n",
       "      <td>0</td>\n",
       "    </tr>\n",
       "    <tr>\n",
       "      <th>4</th>\n",
       "      <td>3000</td>\n",
       "      <td>4</td>\n",
       "      <td>0</td>\n",
       "    </tr>\n",
       "  </tbody>\n",
       "</table>\n",
       "</div>"
      ],
      "text/plain": [
       "   Area  Bathrooms  Labels\n",
       "0  2104          3       1\n",
       "1  1600          3       1\n",
       "2  2400          3       1\n",
       "3  1426          2       0\n",
       "4  3000          4       0"
      ]
     },
     "execution_count": 39,
     "metadata": {},
     "output_type": "execute_result"
    }
   ],
   "source": [
    "for i in data.Labels:\n",
    "    if i == 'Good':\n",
    "        data['Labels'].replace({'Good': 1}, inplace=True)\n",
    "    if i == 'Bad':\n",
    "        data['Labels'].replace({'Bad': 0}, inplace=True)\n",
    "\n",
    "data.head()"
   ]
  },
  {
   "cell_type": "code",
   "execution_count": 3,
   "metadata": {},
   "outputs": [
    {
     "name": "stdout",
     "output_type": "stream",
     "text": [
      "1\n"
     ]
    }
   ],
   "source": [
    "import pandas as pd\n",
    "pd.plotting.register_matplotlib_converters()\n",
    "import matplotlib.pyplot as plt\n",
    "%matplotlib inline\n",
    "import seaborn as sns\n",
    "print(\"Setup Complete\")\n",
    "\n",
    "file = 'C://Users//DJNG4/Downloads/data.csv'\n",
    "\n",
    "data = pd.read_csv(file)\n",
    "\n",
    "data.head()\n",
    "\n",
    "#build line graph\n",
    "plt.figure(figsize=(10,6))\n",
    "plt.title(\"Data CSV\")\n",
    "# scatter\n",
    "#sns.regplot(x=data['Bathrooms'], y=data['Area'])\n",
    "#sns.scatterplot(x=data['Bathrooms'], y=data['Area'], hue=data['Labels'])\n",
    "#sns.lmplot(x=\"Bathrooms\", y=\"Area\", hue=\"Labels\", data=data)\n",
    "# histogram\n",
    "#sns.distplot(a=data['Petal Length (cm)'], kde=False)\n",
    "# KDE plot \n",
    "#sns.kdeplot(data=data['Petal Length (cm)'], shade=True)\n",
    "# bar chart\n",
    "#sns.barplot(x=data1.index,y=data1['B6'])\n",
    "# heat map\n",
    "#sns.heatmap(data=data1, annot=True)\n",
    "plt.xlabel(\"Bathrooms\")\n",
    "plt.ylabel(\"Area\")\n"
   ]
  },
  {
   "cell_type": "code",
   "execution_count": 4,
   "metadata": {},
   "outputs": [
    {
     "name": "stdout",
     "output_type": "stream",
     "text": [
      "1\n"
     ]
    }
   ],
   "source": [
    "print(1)"
   ]
  },
  {
   "cell_type": "code",
   "execution_count": 55,
   "metadata": {},
   "outputs": [
    {
     "name": "stdout",
     "output_type": "stream",
     "text": [
      "The predictions are\n",
      "[1. 1. 1.]\n",
      "The mean absolute error MAE is: \n",
      "0.3333333333333333\n"
     ]
    }
   ],
   "source": [
    "import pandas\n",
    "from sklearn.tree import DecisionTreeRegressor\n",
    "from sklearn.metrics import mean_absolute_error\n",
    "from sklearn.model_selection import train_test_split\n",
    "\n",
    "#first file as testing data\n",
    "file = 'C://Users//djng4/Downloads/data.csv'\n",
    "\n",
    "#pandas to read data into dataframe\n",
    "data = pandas.read_csv(file)\n",
    "\n",
    "for i in data.Labels:\n",
    "    if i == 'Good':\n",
    "        data['Labels'].replace({'Good': 1}, inplace=True)\n",
    "    if i == 'Bad':\n",
    "        data['Labels'].replace({'Bad': 0}, inplace=True)\n",
    "        \n",
    "data.head()\n",
    "\n",
    "#data = data.dropna(axis=0)\n",
    "y = data.Labels #predict y value \n",
    "features = ['Area','Bathrooms']\n",
    "X = data[features] #x value features\n",
    "train_X, val_X, train_y, val_y = train_test_split(X, y, random_state = 0)\n",
    "\n",
    "#decison tree model\n",
    "#max_leaf_nodes = 10\n",
    "model = DecisionTreeRegressor(random_state=1)\n",
    "\n",
    "#fit the model to the data (compare)\n",
    "model.fit(train_X,train_y)\n",
    "\n",
    "\n",
    "#predict values\n",
    "print(\"The predictions are\")\n",
    "print(model.predict(val_X))\n",
    "\n",
    "\n",
    "#find mean absolute error (should be 0.0 here)\n",
    "predicted = model.predict(val_X)\n",
    "print(\"The mean absolute error MAE is: \")\n",
    "print(mean_absolute_error(val_y, predicted))\n"
   ]
  },
  {
   "cell_type": "code",
   "execution_count": 4,
   "metadata": {},
   "outputs": [
    {
     "name": "stderr",
     "output_type": "stream",
     "text": [
      "'conda' is not recognized as an internal or external command,\n",
      "operable program or batch file.\n"
     ]
    }
   ],
   "source": [
    "import sys\n",
    "!conda install --yes --prefix {sys.prefix} openpyxl"
   ]
  },
  {
   "cell_type": "code",
   "execution_count": 19,
   "metadata": {},
   "outputs": [
    {
     "name": "stdout",
     "output_type": "stream",
     "text": [
      "Starting process...\n",
      "Enter date (e.g DD/MM/YYYY): \n",
      "01/02/2021\n",
      "Choose PROJECT TYPE: \n",
      "\n",
      "    1.\n",
      "    2. \n",
      "    3. \n",
      "    4. \n",
      "    5. \n",
      "    6. \n",
      "    7. \n",
      "    \n",
      "1\n",
      "Enter COMMENTS: \n",
      "comenting coments\n",
      "Enter HOURS: \n",
      "0.3\n",
      "1 line saved\n",
      "Continue? : \n",
      "y\n",
      "Choose PROJECT TYPE: \n",
      "\n",
      "    1.\n",
      "    2. \n",
      "    3. \n",
      "    4. \n",
      "    5. \n",
      "    6. \n",
      "    7. \n",
      "    \n",
      "1\n",
      "Enter COMMENTS: \n",
      "Another comment\n",
      "Enter HOURS: \n",
      "1.00\n",
      "2 line saved\n",
      "Continue? : \n",
      "n\n"
     ]
    }
   ],
   "source": [
    "\n",
    "import  openpyxl, os, datetime\n",
    "\n",
    "\n",
    "home = os.path.expanduser('~')\n",
    "print( 'Starting process...')\n",
    "\n",
    "\n",
    "#load excel sheet, delete columns and save\n",
    "wb1 = openpyxl.load_workbook(home + '\\\\Desktop\\\\Book1.xlsx')\n",
    "sheet1 = wb1.active\n",
    "y = 1\n",
    "count = 0\n",
    "\n",
    "print(\"Enter date (e.g DD/MM/YYYY): \")\n",
    "date = input()\n",
    "\n",
    "mr = sheet1.max_row + 1\n",
    "\n",
    "def populate(x,y,z):    \n",
    "    sheet1.cell(row = mr, column = 1).value = \"Dumo Ngwenya\"\n",
    "    sheet1.cell(row = mr, column = 2).value = date\n",
    "    sheet1.cell(row = mr, column = 3).value = \"Items\"\n",
    "    sheet1.cell(row = mr, column = 4).value = x\n",
    "    sheet1.cell(row = mr, column = 5).value = z\n",
    "    sheet1.cell(row = mr, column = 8).value = y\n",
    "    sheet1.cell(row = mr, column = 9).value = \"0.30\"\n",
    "\n",
    "\n",
    "populate(\"Items\" , \"Items\", \"Items\")\n",
    "mr = sheet1.max_row + 1\n",
    "populate(\"Items\" , \"Items\", \"Items\")\n",
    "\n",
    "while y == 1:\n",
    "    mr = sheet1.max_row + 1\n",
    "\n",
    "\n",
    "    #Name\n",
    "    sheet1.cell(row = mr, column = 1).value = \"Dumo Ngwenya\"\n",
    "\n",
    "    #Date\n",
    "    sheet1.cell(row = mr, column = 2).value = date\n",
    "\n",
    "    #Task\n",
    "    sheet1.cell(row = mr, column = 3).value = \"Items\"\n",
    "\n",
    "\n",
    "\n",
    "\n",
    "\n",
    "    #Project task\n",
    "    proj_task = '''\n",
    "    1.\n",
    "    2. \n",
    "    3. \n",
    "    4. \n",
    "    5. \n",
    "    6. \n",
    "    7. \n",
    "    '''\n",
    "    print(\"Choose PROJECT TYPE: \")\n",
    "    print(proj_task)\n",
    "    x = input()\n",
    "    if x == '1':\n",
    "       sheet1.cell(row = mr, column = 5).value = \"Items\" \n",
    "    elif x == '2' :\n",
    "       sheet1.cell(row = mr, column = 5).value = \"Items\"\n",
    "    elif x == '3' :\n",
    "       sheet1.cell(row = mr, column = 5).value = \"Items\"\n",
    "    elif x == '4' :\n",
    "       sheet1.cell(row = mr, column = 5).value = \"Items\"\n",
    "    elif x == '5' :\n",
    "       sheet1.cell(row = mr, column = 5).value = \"Items\"\n",
    "    elif x == '6' :\n",
    "       sheet1.cell(row = mr, column = 5).value = \"Items\"\n",
    "    elif x == '7' :\n",
    "       sheet1.cell(row = mr, column = 5).value = \"Items\"\n",
    "\n",
    "\n",
    "\n",
    "    #Comments\n",
    "    print(\"Enter COMMENTS: \" )\n",
    "    x = input()\n",
    "    if x == '1':\n",
    "        sheet1.cell(row = mr, column = 8).value = \"Items\"\n",
    "    elif x == '2':\n",
    "        sheet1.cell(row = mr, column = 8).value = \"Items\"\n",
    "    else:\n",
    "        sheet1.cell(row = mr, column = 8).value = x\n",
    "\n",
    "    #Hours\n",
    "    print(\"Enter HOURS: \")\n",
    "    x = input()\n",
    "    sheet1.cell(row = mr, column = 9).value = x\n",
    "\n",
    "    wb1.save(home + '\\\\Desktop\\\\Book1.xlsx')\n",
    "    count = count + 1\n",
    "    print(str(count) + \" line saved\")\n",
    "    print(\"Continue? : \")\n",
    "    a = input()\n",
    "    if a not in 'yYes':\n",
    "        y = 2\n",
    "\n",
    "\n",
    "\n",
    "\n"
   ]
  },
  {
   "cell_type": "code",
   "execution_count": 13,
   "metadata": {},
   "outputs": [
    {
     "data": {
      "text/plain": [
       "<openpyxl.workbook.workbook.Workbook at 0x1fcd8915310>"
      ]
     },
     "execution_count": 13,
     "metadata": {},
     "output_type": "execute_result"
    }
   ],
   "source": [
    "openpyxl.load_workbook(home + '\\\\Desktop\\\\Book1.xlsx')"
   ]
  },
  {
   "cell_type": "code",
   "execution_count": 3,
   "metadata": {},
   "outputs": [
    {
     "data": {
      "text/plain": [
       "'C:\\\\Users\\\\DJNG4\\\\Desktop\\\\Book1.xlsx'"
      ]
     },
     "execution_count": 3,
     "metadata": {},
     "output_type": "execute_result"
    }
   ],
   "source": [
    "home + '\\\\Desktop\\\\Book1.xlsx'\n"
   ]
  },
  {
   "cell_type": "code",
   "execution_count": 15,
   "metadata": {},
   "outputs": [
    {
     "name": "stdout",
     "output_type": "stream",
     "text": [
      "322\n"
     ]
    }
   ],
   "source": [
    "x = input()"
   ]
  },
  {
   "cell_type": "code",
   "execution_count": 27,
   "metadata": {},
   "outputs": [
    {
     "name": "stdout",
     "output_type": "stream",
     "text": [
      "Starting process...\n",
      "Enter date (e.g DD/MM/YYYY): \n",
      "00000\n",
      "Choose PROJECT TYPE: \n",
      "\n",
      "    1. READ\n",
      "    2. BUILD\n",
      "    3. MEETING\n",
      "    4. RESEARCH\n",
      "    5. DOCUMENTATION\n",
      "    6. PREPARATION\n",
      "    \n",
      "1\n",
      "Enter COMMENTS: \n",
      "rw  frw frerere  tew  gwe twg wgg wg\n",
      "Enter LOCATION: \n",
      "\n",
      "Enter TIME(mins): \n",
      "0\n",
      "1 line saved\n",
      "Continue? : \n",
      "n\n"
     ]
    }
   ],
   "source": [
    "# My Logger\n",
    "import  openpyxl, os, datetime\n",
    "\n",
    "\n",
    "home = os.path.expanduser('~')\n",
    "print( 'Starting process...')\n",
    "\n",
    "#load excel sheet, delete columns and save\n",
    "wb1 = openpyxl.load_workbook(home + '\\\\Desktop\\\\Book1.xlsx')\n",
    "sheet1 = wb1.active\n",
    "y = 1\n",
    "count = 0\n",
    "\n",
    "print(\"Enter date (e.g DD/MM/YYYY): \")\n",
    "date = input()\n",
    "\n",
    "mr = sheet1.max_row + 1\n",
    "#sheet1.cell(row = mr, column = 1).value = date\n",
    "#mr = sheet1.max_row + 1\n",
    "\n",
    "while y == 1:\n",
    "    #mr = sheet1.max_row + 1\n",
    "\n",
    "    #Date\n",
    "    sheet1.cell(row = mr, column = 1).value = date\n",
    "\n",
    "    #Project task\n",
    "    proj_task = '''\n",
    "    1. READ\n",
    "    2. BUILD\n",
    "    3. MEETING\n",
    "    4. RESEARCH\n",
    "    5. DOCUMENTATION\n",
    "    6. PREPARATION\n",
    "    '''\n",
    "    print(\"Choose PROJECT TYPE: \")\n",
    "    print(proj_task)\n",
    "    x = input()\n",
    "    if x == '1':\n",
    "       sheet1.cell(row = mr, column = 2).value = \"READ\" \n",
    "    elif x == '2' :\n",
    "       sheet1.cell(row = mr, column = 2).value = \"BUILD\"\n",
    "    elif x == '3' :\n",
    "       sheet1.cell(row = mr, column = 2).value = \"MEETING\"\n",
    "    elif x == '4' :\n",
    "       sheet1.cell(row = mr, column = 2).value = \"RESEARCH\"\n",
    "    elif x == '5' :\n",
    "       sheet1.cell(row = mr, column = 2).value = \"DOCUMENTATION\"\n",
    "    elif x == '6' :\n",
    "       sheet1.cell(row = mr, column = 2).value = \"PREPARATION\"\n",
    "  \n",
    "    #Comments\n",
    "    print(\"Enter COMMENTS: \" )\n",
    "    x = input()\n",
    "    sheet1.cell(row = mr, column = 3).value = x\n",
    "\n",
    "    #Hours\n",
    "    print(\"Enter LOCATION: \")\n",
    "    x = input()\n",
    "    sheet1.cell(row = mr, column = 4).value = x\n",
    "    \n",
    "    print(\"Enter TIME(mins): \")\n",
    "    x = input()\n",
    "    sheet1.cell(row = mr, column = 5).value = x\n",
    "\n",
    "    wb1.save(home + '\\\\Desktop\\\\Book1.xlsx')\n",
    "    count = count + 1\n",
    "    print(str(count) + \" line saved\")\n",
    "    print(\"Continue? : \")\n",
    "    a = input()\n",
    "    if a not in 'yYes':\n",
    "        y = 2\n",
    "\n",
    "\n",
    "\n",
    "\n"
   ]
  },
  {
   "cell_type": "code",
   "execution_count": null,
   "metadata": {},
   "outputs": [],
   "source": []
  }
 ],
 "metadata": {
  "kernelspec": {
   "display_name": "Python 3",
   "language": "python",
   "name": "python3"
  },
  "language_info": {
   "codemirror_mode": {
    "name": "ipython",
    "version": 3
   },
   "file_extension": ".py",
   "mimetype": "text/x-python",
   "name": "python",
   "nbconvert_exporter": "python",
   "pygments_lexer": "ipython3",
   "version": "3.8.5"
  }
 },
 "nbformat": 4,
 "nbformat_minor": 4
}
