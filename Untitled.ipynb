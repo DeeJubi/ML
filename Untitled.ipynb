{
 "cells": [
  {
   "cell_type": "code",
   "execution_count": 33,
   "metadata": {},
   "outputs": [
    {
     "name": "stdout",
     "output_type": "stream",
     "text": [
      "Index(['Columns: Area', 'Columns: Bathrooms', 'Columns: Labels'], dtype='object')\n"
     ]
    },
    {
     "data": {
      "text/html": [
       "<div>\n",
       "<style scoped>\n",
       "    .dataframe tbody tr th:only-of-type {\n",
       "        vertical-align: middle;\n",
       "    }\n",
       "\n",
       "    .dataframe tbody tr th {\n",
       "        vertical-align: top;\n",
       "    }\n",
       "\n",
       "    .dataframe thead th {\n",
       "        text-align: right;\n",
       "    }\n",
       "</style>\n",
       "<table border=\"1\" class=\"dataframe\">\n",
       "  <thead>\n",
       "    <tr style=\"text-align: right;\">\n",
       "      <th></th>\n",
       "      <th>Area</th>\n",
       "      <th>Bathrooms</th>\n",
       "      <th>Labels</th>\n",
       "    </tr>\n",
       "  </thead>\n",
       "  <tbody>\n",
       "    <tr>\n",
       "      <th>0</th>\n",
       "      <td>2104</td>\n",
       "      <td>3</td>\n",
       "      <td>Good</td>\n",
       "    </tr>\n",
       "    <tr>\n",
       "      <th>1</th>\n",
       "      <td>1600</td>\n",
       "      <td>3</td>\n",
       "      <td>Good</td>\n",
       "    </tr>\n",
       "    <tr>\n",
       "      <th>2</th>\n",
       "      <td>2400</td>\n",
       "      <td>3</td>\n",
       "      <td>Good</td>\n",
       "    </tr>\n",
       "    <tr>\n",
       "      <th>3</th>\n",
       "      <td>1426</td>\n",
       "      <td>2</td>\n",
       "      <td>Bad</td>\n",
       "    </tr>\n",
       "    <tr>\n",
       "      <th>4</th>\n",
       "      <td>3000</td>\n",
       "      <td>4</td>\n",
       "      <td>Bad</td>\n",
       "    </tr>\n",
       "  </tbody>\n",
       "</table>\n",
       "</div>"
      ],
      "text/plain": [
       "   Area  Bathrooms Labels\n",
       "0  2104          3   Good\n",
       "1  1600          3   Good\n",
       "2  2400          3   Good\n",
       "3  1426          2    Bad\n",
       "4  3000          4    Bad"
      ]
     },
     "execution_count": 33,
     "metadata": {},
     "output_type": "execute_result"
    }
   ],
   "source": [
    "import pandas\n",
    "\n",
    "#first file as testing data\n",
    "file = 'C://Users//djng4/Downloads/data.csv'\n",
    "\n",
    "#pandas to read data into dataframe\n",
    "data = pandas.read_csv(file)\n",
    "print(\"Columns: \" + data.columns)\n",
    "data.describe()\n",
    "data.head()\n",
    "\n",
    "\n"
   ]
  },
  {
   "cell_type": "code",
   "execution_count": 39,
   "metadata": {},
   "outputs": [
    {
     "data": {
      "text/html": [
       "<div>\n",
       "<style scoped>\n",
       "    .dataframe tbody tr th:only-of-type {\n",
       "        vertical-align: middle;\n",
       "    }\n",
       "\n",
       "    .dataframe tbody tr th {\n",
       "        vertical-align: top;\n",
       "    }\n",
       "\n",
       "    .dataframe thead th {\n",
       "        text-align: right;\n",
       "    }\n",
       "</style>\n",
       "<table border=\"1\" class=\"dataframe\">\n",
       "  <thead>\n",
       "    <tr style=\"text-align: right;\">\n",
       "      <th></th>\n",
       "      <th>Area</th>\n",
       "      <th>Bathrooms</th>\n",
       "      <th>Labels</th>\n",
       "    </tr>\n",
       "  </thead>\n",
       "  <tbody>\n",
       "    <tr>\n",
       "      <th>0</th>\n",
       "      <td>2104</td>\n",
       "      <td>3</td>\n",
       "      <td>1</td>\n",
       "    </tr>\n",
       "    <tr>\n",
       "      <th>1</th>\n",
       "      <td>1600</td>\n",
       "      <td>3</td>\n",
       "      <td>1</td>\n",
       "    </tr>\n",
       "    <tr>\n",
       "      <th>2</th>\n",
       "      <td>2400</td>\n",
       "      <td>3</td>\n",
       "      <td>1</td>\n",
       "    </tr>\n",
       "    <tr>\n",
       "      <th>3</th>\n",
       "      <td>1426</td>\n",
       "      <td>2</td>\n",
       "      <td>0</td>\n",
       "    </tr>\n",
       "    <tr>\n",
       "      <th>4</th>\n",
       "      <td>3000</td>\n",
       "      <td>4</td>\n",
       "      <td>0</td>\n",
       "    </tr>\n",
       "  </tbody>\n",
       "</table>\n",
       "</div>"
      ],
      "text/plain": [
       "   Area  Bathrooms  Labels\n",
       "0  2104          3       1\n",
       "1  1600          3       1\n",
       "2  2400          3       1\n",
       "3  1426          2       0\n",
       "4  3000          4       0"
      ]
     },
     "execution_count": 39,
     "metadata": {},
     "output_type": "execute_result"
    }
   ],
   "source": [
    "for i in data.Labels:\n",
    "    if i == 'Good':\n",
    "        data['Labels'].replace({'Good': 1}, inplace=True)\n",
    "    if i == 'Bad':\n",
    "        data['Labels'].replace({'Bad': 0}, inplace=True)\n",
    "\n",
    "data.head()"
   ]
  },
  {
   "cell_type": "code",
   "execution_count": 3,
   "metadata": {},
   "outputs": [
    {
     "name": "stdout",
     "output_type": "stream",
     "text": [
      "1\n"
     ]
    }
   ],
   "source": [
    "import pandas as pd\n",
    "pd.plotting.register_matplotlib_converters()\n",
    "import matplotlib.pyplot as plt\n",
    "%matplotlib inline\n",
    "import seaborn as sns\n",
    "print(\"Setup Complete\")\n",
    "\n",
    "file = 'C://Users//DJNG4/Downloads/data.csv'\n",
    "\n",
    "data = pd.read_csv(file)\n",
    "\n",
    "data.head()\n",
    "\n",
    "#build line graph\n",
    "plt.figure(figsize=(10,6))\n",
    "plt.title(\"Data CSV\")\n",
    "# scatter\n",
    "#sns.regplot(x=data['Bathrooms'], y=data['Area'])\n",
    "#sns.scatterplot(x=data['Bathrooms'], y=data['Area'], hue=data['Labels'])\n",
    "#sns.lmplot(x=\"Bathrooms\", y=\"Area\", hue=\"Labels\", data=data)\n",
    "# histogram\n",
    "#sns.distplot(a=data['Petal Length (cm)'], kde=False)\n",
    "# KDE plot \n",
    "#sns.kdeplot(data=data['Petal Length (cm)'], shade=True)\n",
    "# bar chart\n",
    "#sns.barplot(x=data1.index,y=data1['B6'])\n",
    "# heat map\n",
    "#sns.heatmap(data=data1, annot=True)\n",
    "plt.xlabel(\"Bathrooms\")\n",
    "plt.ylabel(\"Area\")\n"
   ]
  },
  {
   "cell_type": "code",
   "execution_count": 4,
   "metadata": {},
   "outputs": [
    {
     "name": "stdout",
     "output_type": "stream",
     "text": [
      "1\n"
     ]
    }
   ],
   "source": [
    "print(1)"
   ]
  },
  {
   "cell_type": "code",
   "execution_count": 55,
   "metadata": {},
   "outputs": [
    {
     "name": "stdout",
     "output_type": "stream",
     "text": [
      "The predictions are\n",
      "[1. 1. 1.]\n",
      "The mean absolute error MAE is: \n",
      "0.3333333333333333\n"
     ]
    }
   ],
   "source": [
    "import pandas\n",
    "from sklearn.tree import DecisionTreeRegressor\n",
    "from sklearn.metrics import mean_absolute_error\n",
    "from sklearn.model_selection import train_test_split\n",
    "\n",
    "#first file as testing data\n",
    "file = 'C://Users//djng4/Downloads/data.csv'\n",
    "\n",
    "#pandas to read data into dataframe\n",
    "data = pandas.read_csv(file)\n",
    "\n",
    "for i in data.Labels:\n",
    "    if i == 'Good':\n",
    "        data['Labels'].replace({'Good': 1}, inplace=True)\n",
    "    if i == 'Bad':\n",
    "        data['Labels'].replace({'Bad': 0}, inplace=True)\n",
    "        \n",
    "data.head()\n",
    "\n",
    "#data = data.dropna(axis=0)\n",
    "y = data.Labels #predict y value \n",
    "features = ['Area','Bathrooms']\n",
    "X = data[features] #x value features\n",
    "train_X, val_X, train_y, val_y = train_test_split(X, y, random_state = 0)\n",
    "\n",
    "#decison tree model\n",
    "#max_leaf_nodes = 10\n",
    "model = DecisionTreeRegressor(random_state=1)\n",
    "\n",
    "#fit the model to the data (compare)\n",
    "model.fit(train_X,train_y)\n",
    "\n",
    "\n",
    "#predict values\n",
    "print(\"The predictions are\")\n",
    "print(model.predict(val_X))\n",
    "\n",
    "\n",
    "#find mean absolute error (should be 0.0 here)\n",
    "predicted = model.predict(val_X)\n",
    "print(\"The mean absolute error MAE is: \")\n",
    "print(mean_absolute_error(val_y, predicted))\n"
   ]
  },
  {
   "cell_type": "code",
   "execution_count": 53,
   "metadata": {},
   "outputs": [
    {
     "data": {
      "text/plain": [
       "(7,)"
      ]
     },
     "execution_count": 53,
     "metadata": {},
     "output_type": "execute_result"
    }
   ],
   "source": [
    "#train_X.shape\n",
    "#val_X.shape\n",
    "train_y.shape\n",
    "#val_y.shape "
   ]
  },
  {
   "cell_type": "code",
   "execution_count": null,
   "metadata": {},
   "outputs": [],
   "source": []
  },
  {
   "cell_type": "code",
   "execution_count": null,
   "metadata": {},
   "outputs": [],
   "source": []
  }
 ],
 "metadata": {
  "kernelspec": {
   "display_name": "Python 3",
   "language": "python",
   "name": "python3"
  },
  "language_info": {
   "codemirror_mode": {
    "name": "ipython",
    "version": 3
   },
   "file_extension": ".py",
   "mimetype": "text/x-python",
   "name": "python",
   "nbconvert_exporter": "python",
   "pygments_lexer": "ipython3",
   "version": "3.8.5"
  }
 },
 "nbformat": 4,
 "nbformat_minor": 4
}
